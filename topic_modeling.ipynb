{
 "cells": [
  {
   "cell_type": "code",
   "execution_count": 127,
   "metadata": {},
   "outputs": [
    {
     "name": "stdout",
     "output_type": "stream",
     "text": [
      "In numerical analysis, the Shanks transformation is a non-linear series acceleration method to increase the rate of convergence of a sequence. This method is named after Daniel Shanks, who rediscovered this sequence transformation in 1955. It was first derived and published by R. Schmidt in 1941.[1]Milton D. Van Dyke (1975) Perturbation methods in fluid mechanics, p. 202.As an example, consider the slowly convergent series[3]The generalized kth-order Shanks transformation is given as the ratio of the determinants:[4]The generalized Shanks transformation is closely related to Padé approximants and Padé tables.[4]\n"
     ]
    }
   ],
   "source": [
    "# Splitting text data and storing them in a list (of articles)\n",
    "import io\n",
    "docs = io.open(\"raw_data.txt\", mode=\"r\", encoding=\"utf-8\", errors=\"ignore\").read().split('\\n') # list of strings \n",
    "titles = [docs[i] for i in range(len(docs)) if i % 2 == 0] # list of string titles\n",
    "contents = [docs[i] for i in range(len(docs)) if i % 2 == 1] # list of string contents\n",
    "print(contents[500])"
   ]
  },
  {
   "cell_type": "code",
   "execution_count": 128,
   "metadata": {},
   "outputs": [
    {
     "name": "stdout",
     "output_type": "stream",
     "text": [
      "['concept', 'angle', 'line', 'plane', 'pair', 'two', 'line', 'two', 'plan', 'line', 'plane', 'space', 'generalise', 'arbitrary', 'dimension', 'generalisation', 'first', 'discuss', 'jordan', 'pair', 'flats', 'euclidean', 'space', 'arbitrary', 'dimension', 'one', 'define', 'set', 'mutual', 'angle', 'invariant', 'isometric', 'transformation', 'euclidean', 'space', 'flats', 'intersect', 'shortest', 'distance', 'one', 'invariant', 'angle', 'call', 'canonical', 'principal', 'concept', 'angle', 'generalise', 'pair', 'flats', 'finite-dimensional', 'inner', 'product', 'space', 'complex', 'numbers.andbeing', 'relate', 'canonical', 'coordinate', 'basic', 'vectors', 'may', 'call', 'canonical.the', 'principal', 'angle', 'vectors', 'define', 'recursively', 'viaif', 'largest', 'angle', 'zero', 'one', 'subspace', 'subset', 'other.if', 'smallest', 'angle', 'zero', 'subspaces', 'intersect', 'least', 'line.the', 'number', 'angle', 'equal', 'zero', 'dimension', 'space', 'two', 'subspaces', 'intersect']\n"
     ]
    }
   ],
   "source": [
    "# Preprocessing/ cleaning the data\n",
    "import re\n",
    "from nltk.corpus import stopwords \n",
    "from nltk.stem.wordnet import WordNetLemmatizer\n",
    "from nltk import word_tokenize\n",
    "\n",
    "# remove text between parenthesis\n",
    "# contents = list(map(lambda x: re.sub(r\"\\(.*\\)\",\"\",x), contents))\n",
    "\n",
    "# remove all digits from text\n",
    "contents = list(map(lambda x: re.sub(r\"\\d+\",\"\",x), contents))\n",
    "\n",
    "stop = set(stopwords.words('english')) # set of stopwords\n",
    "lemma = WordNetLemmatizer()\n",
    "def clean(doc):\n",
    "    # remove stopwords and words that are too short\n",
    "    return [lemma.lemmatize(i, 'v') for i in word_tokenize(doc) if i not in stop and len(i) > 2]\n",
    "cleaned = [clean(page.lower()) for page in contents]\n",
    "\n",
    "print(cleaned[2])"
   ]
  },
  {
   "cell_type": "code",
   "execution_count": 130,
   "metadata": {},
   "outputs": [
    {
     "name": "stdout",
     "output_type": "stream",
     "text": [
      "Dictionary(25741 unique tokens: ['abelian', 'addition', 'also', 'argument', 'article']...)\n",
      "Dictionary(6621 unique tokens: ['abelian', 'addition', 'also', 'argument', 'article']...)\n",
      "Dictionary(6583 unique tokens: ['abelian', 'addition', 'argument', 'article', 'attribution/share-alike']...)\n",
      "Dictionary(6533 unique tokens: ['abelian', 'addition', 'argument', 'article', 'attribution/share-alike']...)\n"
     ]
    }
   ],
   "source": [
    "# Building word dicitonary\n",
    "from gensim import corpora\n",
    "# create the term dictionary of our corpus; terms are unique; each term is assigned an index\n",
    "dictionary = corpora.Dictionary(cleaned)\n",
    "print(dictionary)\n",
    "dictionary.filter_extremes(no_below=3, no_above=0.7)\n",
    "print(dictionary)\n",
    "stoplist = set('also use make people know many call include part find become like mean often different usually take wikt come give well get since type list say change see refer actually iii aisne kinds pas ask would way something need things want every str'.split())\n",
    "stop_ids = [dictionary.token2id[stopword] for stopword in stoplist if stopword in dictionary.token2id]\n",
    "dictionary.filter_tokens(stop_ids)\n",
    "print(dictionary)\n",
    "dictionary.filter_n_most_frequent(50)\n",
    "print(dictionary)\n",
    "\n",
    "# This saves the dictionary to the local disk\n",
    "dictionary.save_as_text('./dictionary.txt')\n"
   ]
  },
  {
   "cell_type": "code",
   "execution_count": 131,
   "metadata": {},
   "outputs": [
    {
     "name": "stdout",
     "output_type": "stream",
     "text": [
      "694\n",
      "[(1, 1), (7, 1), (11, 1), (14, 1), (22, 2), (24, 2), (30, 3), (34, 29), (39, 1), (40, 2), (43, 1), (46, 1), (61, 2), (64, 1), (65, 1), (74, 2), (79, 1), (84, 2), (86, 2), (100, 1), (104, 1), (111, 1), (117, 2), (123, 3), (125, 1), (126, 1), (129, 1), (132, 3), (134, 7), (137, 1), (138, 1), (141, 3), (154, 4), (164, 1), (165, 1), (172, 3), (175, 1), (176, 2), (183, 1), (198, 1), (214, 3), (217, 1), (222, 1), (228, 1), (233, 1), (253, 1), (255, 2), (262, 2), (270, 1), (273, 2), (275, 2), (281, 1), (288, 2), (292, 3), (303, 1), (321, 1), (324, 1), (329, 1), (339, 2), (342, 1), (356, 6), (357, 1), (376, 1), (381, 1), (385, 1), (391, 1), (392, 1), (395, 2), (399, 1), (404, 6), (409, 1), (419, 4), (423, 4), (438, 2), (459, 1), (461, 1), (464, 2), (467, 1), (490, 1), (491, 2), (500, 4), (511, 24), (518, 3), (519, 1), (525, 2), (526, 1), (529, 1), (533, 1), (535, 1), (539, 2), (548, 3), (554, 3), (561, 1), (564, 1), (578, 1), (595, 1), (617, 1), (627, 1), (631, 1), (654, 1), (665, 1), (668, 1), (692, 3), (696, 5), (723, 2), (735, 1), (736, 1), (757, 2), (758, 2), (764, 3), (776, 5), (788, 1), (790, 2), (827, 1), (838, 1), (851, 1), (859, 1), (866, 1), (874, 1), (893, 1), (910, 1), (921, 1), (954, 1), (976, 1), (981, 2), (982, 1), (995, 1), (1012, 1), (1027, 2), (1066, 2), (1068, 1), (1074, 3), (1079, 1), (1110, 1), (1117, 1), (1160, 1), (1163, 1), (1178, 1), (1208, 1), (1230, 1), (1232, 1), (1270, 1), (1314, 1), (1330, 1), (1340, 1), (1383, 5), (1495, 3), (1529, 1), (1574, 1), (1639, 1), (1689, 1), (1828, 1), (1856, 1), (2126, 1), (2142, 2), (2151, 2), (2157, 2), (2197, 1), (2227, 2), (2249, 1), (2257, 5), (2271, 1), (2309, 1), (2338, 3), (2403, 2), (2422, 1), (2473, 1), (2516, 1), (2532, 1), (2549, 1), (2579, 1), (2586, 2), (2602, 1), (2665, 1), (2722, 1), (2725, 1), (2760, 1), (2809, 1), (2887, 1), (3108, 6), (3214, 2), (3293, 2), (3345, 1), (3365, 1), (3635, 2), (3848, 1), (3849, 1), (3915, 1), (3998, 23), (4168, 2), (4282, 1), (4287, 2), (4366, 3), (4475, 1), (4520, 1), (4689, 1), (4701, 1), (4744, 1), (4928, 1), (4936, 1), (4950, 3), (4960, 2), (5037, 1), (5104, 4), (5143, 1), (5160, 2), (5175, 1), (5180, 1), (5195, 1), (5225, 1), (5832, 2), (5901, 1), (6105, 1), (6107, 1), (6117, 1), (6164, 12), (6362, 1), (6495, 1)]\n"
     ]
    }
   ],
   "source": [
    "# Creating document-term matrix from vocabulary (dictionary)\n",
    "doc_term_matrix = [dictionary.doc2bow(doc) for doc in cleaned]\n",
    "print(len(doc_term_matrix))\n",
    "print(doc_term_matrix[693])"
   ]
  },
  {
   "cell_type": "code",
   "execution_count": 132,
   "metadata": {},
   "outputs": [
    {
     "name": "stdout",
     "output_type": "stream",
     "text": [
      "1   0.005*\"algorithm\" + 0.005*\"cordic\" + 0.004*\"equations\" + 0.004*\"methods\" + 0.004*\"root\" + 0.004*\"vectors\" + 0.004*\"product\" + 0.004*\"error\" + 0.004*\"polynomial\" + 0.003*\"coordinate\" \n",
      "\n",
      "2   0.007*\"vectors\" + 0.006*\"methods\" + 0.006*\"equations\" + 0.005*\"dual\" + 0.005*\"...\" + 0.004*\"orthogonal\" + 0.004*\"determinant\" + 0.004*\"map\" + 0.004*\"matrices\" + 0.004*\"hilbert\" \n",
      "\n",
      "3   0.005*\"affine\" + 0.005*\"line\" + 0.005*\"solution\" + 0.005*\"model\" + 0.004*\"methods\" + 0.004*\"product\" + 0.004*\"equations\" + 0.004*\"computer\" + 0.003*\"coordinate\" + 0.003*\"data\" \n",
      "\n",
      "4   0.012*\"group\" + 0.011*\"product\" + 0.009*\"matrices\" + 0.006*\"vectors\" + 0.005*\"line\" + 0.004*\"equations\" + 0.004*\"map\" + 0.004*\"kernel\" + 0.004*\"transformation\" + 0.004*\"zero\" \n",
      "\n",
      "5   0.008*\"coordinate\" + 0.007*\"equations\" + 0.006*\"line\" + 0.006*\"matrices\" + 0.006*\"equation\" + 0.006*\"ring\" + 0.005*\"solution\" + 0.005*\"finite\" + 0.005*\"row\" + 0.005*\"vectors\" \n",
      "\n",
      "6   0.005*\"product\" + 0.005*\"cordic\" + 0.004*\"group\" + 0.004*\"line\" + 0.004*\"manifold\" + 0.004*\"vectors\" + 0.004*\"plane\" + 0.004*\"map\" + 0.004*\"row\" + 0.003*\"euclidean\" \n",
      "\n",
      "7   0.016*\"sequence\" + 0.006*\"element\" + 0.006*\"map\" + 0.005*\"ring\" + 0.005*\"multiplication\" + 0.005*\"equations\" + 0.005*\"solution\" + 0.004*\"zero\" + 0.004*\"methods\" + 0.004*\"matrices\" \n",
      "\n",
      "8   0.007*\"polynomial\" + 0.007*\"determinant\" + 0.006*\"product\" + 0.006*\"matrices\" + 0.006*\"group\" + 0.004*\"vectors\" + 0.004*\"model\" + 0.004*\"ring\" + 0.004*\"equation\" + 0.004*\"map\" \n",
      "\n",
      "9   0.014*\"coordinate\" + 0.010*\"vectors\" + 0.009*\"ring\" + 0.008*\"product\" + 0.007*\"polynomial\" + 0.006*\"map\" + 0.005*\"matrices\" + 0.004*\"line\" + 0.004*\"multiplication\" + 0.004*\"plane\" \n",
      "\n",
      "10   0.007*\"coordinate\" + 0.005*\"product\" + 0.005*\"geometry\" + 0.005*\"projective\" + 0.004*\"vectors\" + 0.004*\"subspace\" + 0.004*\"sequence\" + 0.004*\"line\" + 0.004*\"state\" + 0.004*\"plane\" \n",
      "\n",
      "11   0.013*\"group\" + 0.010*\"matrices\" + 0.009*\"product\" + 0.004*\"coordinate\" + 0.004*\"equations\" + 0.004*\"vectors\" + 0.004*\"multiplication\" + 0.004*\"sum\" + 0.003*\"map\" + 0.003*\"transformation\" \n",
      "\n",
      "12   0.008*\"equations\" + 0.006*\"solution\" + 0.006*\"vectors\" + 0.004*\"product\" + 0.004*\"map\" + 0.004*\"equation\" + 0.004*\"systems\" + 0.004*\"algorithm\" + 0.004*\"model\" + 0.003*\"data\" \n",
      "\n",
      "13   0.007*\"polynomial\" + 0.006*\"matrices\" + 0.006*\"equation\" + 0.006*\"equations\" + 0.005*\"product\" + 0.005*\"vectors\" + 0.005*\"map\" + 0.004*\"degree\" + 0.004*\"coordinate\" + 0.004*\"determinant\" \n",
      "\n",
      "14   0.010*\"vectors\" + 0.008*\"product\" + 0.008*\"line\" + 0.007*\"row\" + 0.006*\"ring\" + 0.005*\"polynomial\" + 0.004*\"span\" + 0.004*\"equation\" + 0.004*\"rank\" + 0.004*\"plane\" \n",
      "\n",
      "15   0.007*\"equations\" + 0.007*\"group\" + 0.005*\"row\" + 0.005*\"matrices\" + 0.005*\"image\" + 0.004*\"map\" + 0.004*\"transformation\" + 0.004*\"solution\" + 0.004*\"polynomial\" + 0.004*\"coordinate\" \n",
      "\n"
     ]
    }
   ],
   "source": [
    "# Training LDA model\n",
    "from gensim.models.ldamodel import LdaModel as Lda\n",
    "\n",
    "ldamodel = Lda(doc_term_matrix, num_topics=15, id2word = dictionary)\n",
    "\n",
    "# Showing the 15 identified topics after the model is trained, where top 10 key terms are listed for each topic\n",
    "for topic in ldamodel.print_topics(num_topics=15, num_words=10):\n",
    "    print(topic[0]+1, \" \", topic[1],\"\\n\")"
   ]
  },
  {
   "cell_type": "code",
   "execution_count": 133,
   "metadata": {},
   "outputs": [
    {
     "name": "stdout",
     "output_type": "stream",
     "text": [
      "Articles(ID) in Cluster 1: 7, 49, 89, 103, 105, 111, 114, 123, 130, 131, 136, 137, 156, 167, 175, 179, 181, 182, 184, 185, 188, 195, 196, 204, 210, 212, 216, 222, 226, 231, 233, 245, 246, 251, 274, 282, 284, 293, 296, 300, 307, 308, 323, 324, 333, 334, 339, 347, 358, 361, 364, 370, 372, 394, 398, 414, 430, 437, 457, 464, 498, 499, 513, 519, 523, 526, 527, 529, 541, 547, 589, 596, 602, 614, 621, 627, 631, 632, 653, 661, 668\n",
      "\n",
      "Articles(ID) in Cluster 2: 17, 46, 51, 56, 58, 66, 80, 83, 118, 121, 129, 166, 238, 244, 253, 287, 294, 312, 337, 353, 368, 406, 411, 469, 478, 532, 542, 548, 551, 565, 579, 591, 593, 617, 622, 630, 633, 643, 687\n",
      "\n",
      "Articles(ID) in Cluster 3: 26, 35, 60, 84, 99, 113, 155, 164, 165, 170, 171, 180, 193, 243, 272, 306, 316, 317, 345, 360, 378, 410, 431, 441, 481, 503, 585, 607, 620, 625, 640, 641, 659, 674, 678, 682\n",
      "\n",
      "Articles(ID) in Cluster 4: 2, 9, 27, 43, 67, 82, 90, 104, 124, 125, 141, 169, 172, 174, 177, 183, 197, 199, 209, 220, 227, 241, 250, 259, 263, 266, 275, 280, 289, 290, 298, 301, 309, 326, 349, 350, 354, 356, 375, 382, 387, 388, 391, 392, 409, 444, 446, 447, 459, 470, 484, 486, 500, 501, 509, 514, 516, 555, 588, 590, 610, 629, 635, 658, 665, 669, 677, 690\n",
      "\n",
      "Articles(ID) in Cluster 5: 14, 32, 50, 52, 55, 59, 81, 91, 102, 108, 109, 122, 128, 143, 149, 161, 203, 232, 234, 247, 265, 268, 286, 291, 302, 311, 322, 325, 328, 329, 330, 340, 377, 383, 384, 402, 405, 418, 423, 426, 427, 439, 445, 471, 528, 543, 549, 561, 567, 581, 592, 605, 639\n",
      "\n",
      "Articles(ID) in Cluster 6: 12, 31, 48, 63, 135, 154, 205, 208, 213, 219, 283, 320, 395, 485, 553, 571, 611, 662\n",
      "\n",
      "Articles(ID) in Cluster 7: 21, 24, 36, 57, 65, 69, 74, 76, 77, 106, 139, 163, 173, 198, 202, 229, 249, 252, 255, 281, 292, 318, 351, 373, 376, 404, 428, 433, 434, 435, 438, 456, 458, 474, 508, 510, 511, 515, 524, 537, 544, 550, 557, 559, 597, 613, 619, 624, 636, 642, 644, 647, 664, 676\n",
      "\n",
      "Articles(ID) in Cluster 8: 11, 40, 47, 61, 64, 68, 101, 115, 116, 132, 151, 153, 176, 178, 187, 200, 223, 235, 273, 314, 365, 403, 416, 417, 419, 425, 432, 443, 449, 466, 545, 603, 606, 609, 616, 648, 650, 679, 683, 693\n",
      "\n",
      "Articles(ID) in Cluster 9: 0, 1, 4, 5, 10, 18, 22, 25, 33, 39, 44, 70, 78, 79, 87, 95, 119, 140, 150, 160, 168, 190, 191, 206, 207, 211, 240, 248, 262, 264, 267, 269, 270, 295, 310, 315, 331, 341, 357, 363, 367, 369, 379, 380, 385, 396, 408, 415, 420, 422, 424, 436, 450, 452, 454, 455, 465, 480, 494, 495, 505, 520, 533, 563, 566, 573, 580, 582, 586, 587, 595, 598, 599, 626, 637, 649, 660, 667, 670, 681, 686\n",
      "\n",
      "Articles(ID) in Cluster 10: 62, 97, 138, 215, 239, 299, 359, 381, 393, 413, 429, 476, 477, 482, 490, 507, 530, 572, 574, 608, 612, 628\n",
      "\n",
      "Articles(ID) in Cluster 11: 16, 19, 29, 38, 75, 145, 162, 186, 194, 201, 218, 278, 288, 319, 440, 442, 453, 463, 468, 483, 506, 546, 558, 594, 601, 623, 645, 651, 652\n",
      "\n",
      "Articles(ID) in Cluster 12: 8, 15, 23, 37, 45, 71, 73, 92, 96, 120, 217, 237, 257, 304, 321, 344, 366, 374, 390, 397, 399, 460, 487, 493, 518, 522, 531, 534, 536, 568, 569, 576, 577, 578, 618, 634, 646, 655, 656, 657, 675, 680, 691\n",
      "\n",
      "Articles(ID) in Cluster 13: 3, 34, 53, 54, 107, 112, 127, 133, 134, 142, 146, 147, 159, 221, 230, 256, 336, 338, 343, 352, 355, 371, 386, 412, 461, 472, 473, 489, 492, 496, 502, 538, 560, 570, 584, 600, 615, 638, 673, 684, 689\n",
      "\n",
      "Articles(ID) in Cluster 14: 20, 28, 41, 42, 72, 94, 117, 126, 144, 152, 157, 158, 189, 214, 228, 236, 261, 271, 277, 279, 285, 297, 313, 335, 342, 348, 407, 421, 448, 475, 488, 497, 504, 525, 535, 540, 564, 583, 663, 666, 671, 692\n",
      "\n",
      "Articles(ID) in Cluster 15: 6, 13, 30, 85, 86, 88, 93, 98, 100, 110, 148, 192, 224, 225, 254, 260, 276, 305, 327, 332, 346, 362, 389, 400, 462, 479, 491, 517, 521, 539, 552, 554, 556, 562, 575, 604, 654, 672, 685, 688\n",
      "\n"
     ]
    }
   ],
   "source": [
    "# Clustering documents based on topics extracted from LDA model \n",
    "from operator import itemgetter\n",
    "def cluster(doc_term_matrix, num):\n",
    "    doc_topics = ldamodel.get_document_topics(doc_term_matrix, minimum_probability=0.20)\n",
    "    result = [[] for i in range(num)]\n",
    "    for k,topic in enumerate(doc_topics):\n",
    "        # Some articles do not have a topic\n",
    "        if topic:\n",
    "            topic.sort(key = itemgetter(1), reverse=True)\n",
    "            result[topic[0][0]].append(k)\n",
    "    for k in range(len(result)):\n",
    "        print('Articles(ID) in Cluster ' + str(k+1) + ': ' + ', '.join(map(str, result[k])))\n",
    "        print()\n",
    "    return result\n",
    "cluster_result = cluster(doc_term_matrix, 15)"
   ]
  },
  {
   "cell_type": "code",
   "execution_count": 134,
   "metadata": {},
   "outputs": [
    {
     "name": "stdout",
     "output_type": "stream",
     "text": [
      "Articles in Cluster 1: Truncation error, Weyr canonical form, CORDIC, Orthant, De Casteljau's algorithm, Remez algorithm, Digital Library of Mathematical Functions, Adaptive stepsize, CORDIC, Trigonometric tables, De Boor's algorithm, Finite volume method, CORDIC, Signal-flow graph, Numerical analysis, The Nine Chapters on the Mathematical Art, Numerical model of the Solar System, Linear programming, Weakened weak form, Movable cellular automaton, Computational complexity, Fangcheng (mathematics), Material point method, Algorithm, Surrogate model, CORDIC, Entanglement-assisted stabilizer formalism, CORDIC, Pseudospectral knotting method, CORDIC, Engineering, Condition number, Legendre pseudospectral method, Computational science, Numerical stability, Chebyshev nodes, Graphics processing unit, Sparse grid, CORDIC, Lattice reduction, Digital Library of Mathematical Functions, CORDIC, Relative change and difference, CORDIC, Numerical methods in fluid mechanics, CORDIC, Minimax approximation algorithm, CORDIC, Equioscillation theorem, Gal's accurate tables, Numerical integration, CORDIC, Gabriel Cramer, CORDIC, Ross–Fahroo pseudospectral method, Aitken's delta-squared process, Low-discrepancy sequence, Multilinear form, CORDIC, Jenkins–Traub algorithm, Richardson extrapolation, Mathematics, Generator (mathematics), Gottfried Wilhelm Leibniz, Reduction (mathematics), Model order reduction, CORDIC, Discretization, Approximation error, Error analysis (mathematics), Bellman pseudospectral method, Bunch–Nielsen–Sorensen formula, Multiphysics, Numerical error, Wilkinson's polynomial, Quasinorm, Mathematical analysis, GetFEM++, Golden–Thompson inequality, Square-free polynomial, Predictor–corrector method\n",
      "\n",
      "Articles in Cluster 2: Definite quadratic form, Linear form, Conjugate transpose, René Descartes, Mixed linear complementarity problem, Sublinear function, Bilinear form, Linear form, Runge–Kutta methods, Resolvent set, Bilinear form, Dimension theorem for vector spaces, Dual basis, Null vector, Orthonormal function system, Multigrid method, Basis (linear algebra), Jordan normal form, Gram–Schmidt process, Orthogonal complement, Liouville space, Definite quadratic form, Dual space, Direct sum of modules, Finitely generated module, Dual space, Self-adjoint, Transfer matrix, Gram–Schmidt process, Transpose of a linear map, Orthogonal basis, Orthogonal diagonalization, Isotonic regression, List of operator splitting topics, Multilevel Monte Carlo method, Basis (linear algebra), Hurwitz determinant, Dual basis, Continuous wavelet\n",
      "\n",
      "Articles in Cluster 3: /wiki/Linear algebra, Robotics, ND4S, Linear regression, Affine space, Mathematical model, Computer vision, Computational statistics, Local convergence, Maple (software), Monte Carlo method, ND4J (software), Parareal, Ross' π lemma, MATLAB, Template:Linear algebra, LAPACK, Linear approximation, Linear inequality, Tikhonov regularization, Intersection (Euclidean geometry), Identifiability analysis, Numerical continuation, Order of accuracy, Gershgorin circle theorem, Telegraphy, Coopmans approximation, Approximation, Unrestricted algorithm, Curve fitting, Padé table, Computer graphics, Invariants of tensors, Regularized least squares, Affine space, Generalized Gauss–Newton method\n",
      "\n",
      "Articles in Cluster 4: Angles between flats, General linear group, Linear algebra, Matrix multiplication, Trace (linear algebra), Singular value decomposition, Kempner series, Overcompleteness, Matrix similarity, Split-complex number, Basic Linear Algebra Subprograms, Identity matrix, Antiunitary operator, Orthogonal transformation, Backus–Gilbert method, Permanent (mathematics), Zero matrix, Kernel (algebra), Peano kernel theorem, Peetre's inequality, List of finite element software packages, Lorentz transformation, Cokernel, Generalized singular value decomposition, Diagonal matrix, Dot product, Hypercomplex number, Spectral theorem, Eigenvalues and eigenvectors, Triple product, Generalized eigenvector, 2 × 2 real matrices, Kernel (linear algebra), Finitely generated abelian group, Normal matrix, Symplectic vector space, Geometric transformation, Minimum polynomial extrapolation, Levi-Civita symbol, Hyperplane, Jordan–Chevalley decomposition, Matrix analysis, Special linear group, Spinors in three dimensions, Van Wijngaarden transformation, Bidiagonal matrix, Semilinear map, Matrix (mathematics), Cauchy–Schwarz inequality, Seven-dimensional cross product, Pseudoscalar, Uzawa iteration, Shanks transformation, Kernel (linear algebra), General linear group, Reflection (mathematics), Unitary transformation, Leibniz formula for determinants, Kernel (linear algebra), Jordan normal form, Cross product, Kernel (linear algebra), Cauchy–Schwarz inequality, Diagonalizable matrix, Quaternionic matrix, Pointwise, Schur complement, Shear mapping\n",
      "\n",
      "Articles in Cluster 5: Linear equation, Quadratic form, Barycentric coordinate system, Sylvester's law of inertia, Quadratic form, Quaternion, Benjamin Peirce, Rotation (mathematics), Hermite normal form, Galerkin method, Indeterminate system, Sesquilinear form, Finite field, Matrix congruence, Field extension, Row echelon form, System of linear equations, Quaternionic vector space, Cardinality, Triangle inequality, Big M method, S-procedure, Orientation (vector space), System of linear equations, Augmented matrix, Overdetermined system, Complex conjugate, System of linear equations, Trilinear coordinates, Normal basis, Euclidean space, Wild problem, Restricted isometry property, Steinitz exchange lemma, Piecewise linear continuation, Row equivalence, Loewner order, Three-dimensional rotation operator, Semi-infinite programming, Underdetermined system, System of linear equations, Rotation of axes, Analytic geometry, Symmetric matrix, Centrosymmetric matrix, Matrix difference equation, Rotation, System of linear equations, Scarborough criterion, Productive matrix, Spectral theory, Coefficient matrix, Translation of axes\n",
      "\n",
      "Articles in Cluster 6: Bernstein polynomial, Level set (data structures), Overlap–add method, Immanant, Fast multipole method, Differential geometry, Balanced set, Intersection curve, Orthogonality, Plane (geometry), Truncation, Radial basis function, Symbolic-numeric computation, Absolutely convex set, Convex cone, Orthographic projection, Integer points in convex polyhedra, Manifold\n",
      "\n",
      "Articles in Cluster 7: Modulus of smoothness, Boundary particle method, Stiffness matrix, Scalar multiplication, Range (mathematics), Bi-directional delay line, List of numerical analysis topics, Ross–Fahroo lemma, Regularized meshless method, Book:Linear algebra, Iterative method, Scalar multiplication, Boundary knot method, Real number, Karlsruhe Accurate Arithmetic, Generalized-strain mesh-free formulation, History of Lorentz transformations, Sequence, Sigma approximation, Quadratic eigenvalue problem, Function (mathematics), Meshfree methods, Multi-time-step integration, Hermes Project, Segre classification, Singular boundary method, Delta operator, Numerical method, Portal:Linear algebra, Zero object (algebra), Newton fractal, Set (mathematics), Numerical range, Chebyshev pseudospectral method, Sequence, Eigengap, Graded (mathematics), Applied element method, Canonical map, Flat pseudospectral method, Complex conjugate vector space, Multiplicative inverse, Principal ideal domain, Karlsruhe Accurate Arithmetic, Spectral method, Linear complementarity problem, Method of fundamental solutions, Mesh generation, Map (mathematics), Abstract algebra, Series acceleration, Discrete Fourier transform, Rate of convergence, Portal:Linear algebra\n",
      "\n",
      "Articles in Cluster 8: List of uncertainty propagation software, Dieudonné determinant, Invertible matrix, Frame (linear algebra), Interval propagation, CSS code, Fusion frame, Propagation of uncertainty, Orthogonal Procrustes problem, Hermann Grassmann, Matrix determinant lemma, Zero of a function, Invertible matrix, Invertible matrix, Successive parabolic interpolation, Trace identity, Invertible matrix, Polynomial, Determinant, Estrin's scheme, Significance arithmetic, Rule of Sarrus, Nonstandard finite difference scheme, Asymmetric norm, Invertible matrix, Polynomial, Order of approximation, Zero mode, Determinant, Majorization, Interval contractor, Rod calculus, Nyström method, Eigenvalue perturbation, Reality structure, Linear system, Sylvester's determinant identity, Woodbury matrix identity, Tensor operator, Butcher group\n",
      "\n",
      "Articles in Cluster 9: Free module, Binary operation, Multilinear algebra, Bendixson's inequality, Unit vector, Polarization identity, Tensor product, Hilbert space, Orthonormality, Endomorphism, Matrix norm, Linear map, Trajectory (fluid mechanics), Function space, Blossom (functional), Semi-simple operator, Hermitian adjoint, Standard basis, Overlap–save method, Line segment, Spherical basis, Norm (mathematics), Purification of quantum state, Cartesian tensor, Antilinear map, Homogeneous coordinates, Change of basis, Dual norm, Bra–ket notation, Module homomorphism, Function composition, Function space, Dual number, Euclidean vector, Orthonormal basis, Linear map, Guard digit, Isomorphism, Joint spectral radius, Adjoint state method, Polynomial ring, Rota's basis conjecture, Semi-simplicity, Coordinate system, Commutative ring, 3D projection, Field (mathematics), Skew-Hamiltonian matrix, Sedrakyan's inequality, Linear map, Functional analysis, Scalar (mathematics), Lp space, Birkhoff orthogonality, Three-dimensional space, Coordinate vector, Euclidean vector, Bra–ket notation, Function composition, Weyl's inequality, Trace diagram, Projection (mathematics), Linear combination, Basis function, Complex plane, Hilbert–Poincaré series, Eigenoperator, Polynomial basis, Coordinate vector, Algebra over a field, Category of modules, Hilbert space, Coordinate space, Isomorphism, Vector space, Cartesian coordinate system, Eigenplane, Ring (mathematics), Invariant subspace, Linear combination, Coordinate system\n",
      "\n",
      "Articles in Cluster 10: Flag (linear algebra), Stokes operator, Homography, Dynamic relaxation, Euclidean group, Geometry, Quantum mechanics, Flag (linear algebra), Perspectivity, Projective space, Lie group integrator, Controlled invariant subspace, Field (physics), Element (mathematics), Defective matrix, Isometry, Coates graph, Synthetic geometry, Axiom, Cyclic subspace, Rigid body dynamics, Interval arithmetic\n",
      "\n",
      "Articles in Cluster 11: Sinc numerical methods, Translation, Fredholm's theorem, Fredholm alternative, Z-order curve, Abelian group, Elementary matrix, Matrix addition, Schur product theorem, FEE method, Lady Windermere's Fan (mathematics), Lanczos approximation, Wolfram Language, Möbius transformation, K-SVD, Transformation matrix, Elementary matrix, Haynsworth inertia additivity formula, Squeeze mapping, Vectorization (mathematics), Computing the permanent, Orientation of a vector bundle, Elementary matrix, Vector-valued function, Generalizations of Pauli matrices, Conformable matrix, Subset, Inner product space, Spread of a matrix\n",
      "\n",
      "Articles in Cluster 12: Curse of dimensionality, Kahan summation algorithm, Differential-algebraic system of equations, Skew-Hermitian matrix, Cache (computing), List of vector spaces in mathematics, Multi-core processor, Truncated power function, Matrix calculus, Vector field reconstruction, Commutation matrix, Linear equation over a ring, Riemann solver, Abramowitz and Stegun, Abramowitz and Stegun, Stabilizer code, Levinson recursion, Transpose, Linear equation over a ring, Padé approximant, Numeric precision in Microsoft Excel, Dimension (vector space), Dual basis in a field extension, Partial trace, Round-off error, Dimension (vector space), Hypot, Orthogonalization, Pairwise summation, Weather forecasting, Closed-form expression, Modeshape, Affine arithmetic, Well-posed problem, Processor (computing), Artificial precision, Abramowitz and Stegun, Bernstein's constant, Partial differential algebraic equation, Mechanics, Quantification of margins and uncertainties, Compressed sensing, Discretization error\n",
      "\n",
      "Articles in Cluster 13: Gradient discretisation method, List of linear algebra topics, Geodesy, James Joseph Sylvester, File:Portal-puzzle.svg, Rayleigh quotient, Cramer's rule, A Treatise on Electricity and Magnetism, Cramer's rule, Wave function, Amitsur–Levitzki theorem, Newton's identities, Monic polynomial, Nonlinear eigenproblem, Charles Sanders Peirce, Whitney inequality, Residual (numerical analysis), Adjugate matrix, Unisolvent functions, Faddeev–LeVerrier algorithm, Figure of the Earth, Sherman–Morrison formula, Nonlinear system, Lapped transform, Projection-valued measure, Nonlinear system, Approximation theory, Tapering (mathematics), Arthur Cayley, Timeline of numerical analysis after 1945, Linear function, Mode of a linear field, Total set, James H. Wilkinson, Zech's logarithm, Homogeneous function, James H. Wilkinson, Cramer's rule, Superconvergence, Codimension, Explicit algebraic stress model\n",
      "\n",
      "Articles in Cluster 14: Rank (linear algebra), Hamming space, Nonnegative rank (linear algebra), k-frame, Frobenius normal form, Linear span, Linearity, Hundred-dollar, Hundred-digit Challenge problems, Loss of significance, Projection (linear algebra), Probability box, Canonical basis, Row and column spaces, Pohlke's theorem, Linear span, Characteristic polynomial, Pseudovector, Choi's theorem on completely positive maps, Vector projection, Linear span, Gaussian elimination, Horner's method, Linear independence, Rank (linear algebra), Characteristic polynomial, Matrix Chernoff bound, Schmidt decomposition, Equipollence (geometry), Zassenhaus algorithm, Linear independence, Quadruple product, Carl Friedrich Gauss, Flat (geometry), Frobenius normal form, Line–line intersection, Linear subspace, Line (geometry), Gaussian elimination, Clenshaw algorithm, Linear subspace, Giuseppe Peano, Ambient space\n",
      "\n",
      "Articles in Cluster 15: Closest point method, Difference quotient, Atmosphere, Fundamental matrix (computer vision), Relative dimension, False precision, Rank factorization, Proper generalized decomposition, Pseudo-spectral method, Image (mathematics), Finite Legendre transform, Group representation, Finite difference, Numerical differentiation, Multilevel fast multipole method, Independent equation, Simpson's rule, Significant figures, Pairing, Image (mathematics), Shear matrix, Quotient space (linear algebra), Rayleigh's quotient in vibrations analysis, Non-negative matrix factorization, List of linear algebra topics, Corank, Partial differential equation, Finite von Neumann algebra, Bijection, Row and column vectors, Image (mathematics), Savitzky–Golay filter, Newton–Krylov method, Fundamental theorem of linear algebra, Scale co-occurrence matrix, Numerical linear algebra, Row and column vectors, Dependence relation, Discrete wavelet transform, Von Neumann stability analysis\n",
      "\n"
     ]
    }
   ],
   "source": [
    "# Showing the exact document titles in each cluster\n",
    "for k in range(len(cluster_result)):\n",
    "    print('Articles in Cluster ' + str(k+1) + ': ' + ', '.join(map(lambda x: titles[x], cluster_result[k])))\n",
    "    print()"
   ]
  },
  {
   "cell_type": "code",
   "execution_count": 135,
   "metadata": {},
   "outputs": [
    {
     "name": "stdout",
     "output_type": "stream",
     "text": [
      "[(0, 0.00057868654), (1, 0.00045104639), (2, 0.00084757595), (3, 0.0002453932), (4, 0.00051466381), (5, 0.0016234117), (6, 0.00060021167), (7, 0.00040596904), (8, 0.00049059215), (9, 9.2905306e-05), (10, 0.00040188272), (11, 0.00017894359), (12, 0.00018584277), (13, 0.00058993214), (14, 0.00035637923)]\n"
     ]
    }
   ],
   "source": [
    "term_topics = ldamodel.get_term_topics('convex', minimum_probability=0.000001)\n",
    "print(term_topics)"
   ]
  },
  {
   "cell_type": "code",
   "execution_count": 136,
   "metadata": {},
   "outputs": [
    {
     "name": "stdout",
     "output_type": "stream",
     "text": [
      "------- Top 7 articles related to convex -------\n",
      "Bernstein polynomial \n",
      " 0.99451 \n",
      "\n",
      "Intersection curve \n",
      " 0.994167 \n",
      "\n",
      "Radial basis function \n",
      " 0.988477 \n",
      "\n",
      "Manifold \n",
      " 0.986637 \n",
      "\n",
      "Integer points in convex polyhedra \n",
      " 0.984444 \n",
      "\n",
      "Absolutely convex set \n",
      " 0.983626 \n",
      "\n",
      "Truncation \n",
      " 0.973333 \n",
      "\n"
     ]
    }
   ],
   "source": [
    "# Getting related documents based on a term \n",
    "def get_related_documents(term, top, doc_term_matrix):\n",
    "    print('------- Top', top, 'articles related to',term,'-------')\n",
    "    related_docs = []\n",
    "    doc_topics = ldamodel.get_document_topics(doc_term_matrix, minimum_probability=0.20)\n",
    "    term_topics = ldamodel.get_term_topics(term, minimum_probability=0.000001)\n",
    "    term_topics.sort(key = itemgetter(1), reverse=True)\n",
    "    for k,topic in enumerate(doc_topics):\n",
    "        if topic:\n",
    "            topic.sort(key = itemgetter(1), reverse=True)\n",
    "            if topic[0][0] == term_topics[0][0]:\n",
    "                related_docs.append((k,topic[0][1]))\n",
    "    related_docs.sort(key = itemgetter(1), reverse=True)\n",
    "    result = []\n",
    "    for j,doc in enumerate(related_docs):\n",
    "        print(titles[doc[0]],\"\\n\",doc[1],\"\\n\")   \n",
    "        result.append(titles[doc[0]])\n",
    "        if j == top - 1:\n",
    "            break\n",
    "related_docs = get_related_documents('convex', 7, doc_term_matrix)\n"
   ]
  },
  {
   "cell_type": "code",
   "execution_count": 138,
   "metadata": {},
   "outputs": [
    {
     "name": "stdout",
     "output_type": "stream",
     "text": [
      "6\n"
     ]
    }
   ],
   "source": [
    "def get_theme(doc, cluster_result):\n",
    "    doc_id = titles.index(doc)\n",
    "    if doc_id == -1:\n",
    "        print('Document not found.')\n",
    "        return\n",
    "    for i, cluster in enumerate(cluster_result):\n",
    "        if doc_id in cluster:\n",
    "            return i+1\n",
    "    return 0\n",
    "cluster_num = get_theme('Absolutely convex set', cluster_result)\n",
    "print(cluster_num)"
   ]
  },
  {
   "cell_type": "code",
   "execution_count": 196,
   "metadata": {},
   "outputs": [
    {
     "name": "stdout",
     "output_type": "stream",
     "text": [
      "TfidfModel(num_docs=694, num_nnz=169581)\n",
      "(0, 0.045342656413852538)\n"
     ]
    }
   ],
   "source": [
    "# Implementing tf-idf model; the only information needed from the previous part is the doc_term_matrix\n",
    "from gensim.models import TfidfModel, LsiModel\n",
    "tfidf_model = TfidfModel(doc_term_matrix, dictionary = dictionary)\n",
    "print(tfidf_model)\n",
    "vector = tfidf_model[doc_term_matrix[0]]\n",
    "print(vector[0])\n"
   ]
  },
  {
   "cell_type": "code",
   "execution_count": 150,
   "metadata": {},
   "outputs": [
    {
     "name": "stdout",
     "output_type": "stream",
     "text": [
      "LsiModel(num_terms=6533, num_topics=200, decay=1.0, chunksize=20000)\n"
     ]
    }
   ],
   "source": [
    "# Implementing LSI model; the only information needed from the previous part is the doc_term_matrix\n",
    "lsi_model = LsiModel(doc_term_matrix, id2word=dictionary)\n",
    "print(lsi_model)"
   ]
  },
  {
   "cell_type": "code",
   "execution_count": 171,
   "metadata": {},
   "outputs": [
    {
     "name": "stdout",
     "output_type": "stream",
     "text": [
      "694\n"
     ]
    }
   ],
   "source": [
    "# Creating the similarity matrix from simple bag-of-words model (# of documents * # of documents)\n",
    "from gensim import similarities\n",
    "\n",
    "index = similarities.MatrixSimilarity(doc_term_matrix, num_features=len(dictionary))\n",
    "print(len(index[doc_term_matrix[693]])) # 694 * 694 matrix"
   ]
  },
  {
   "cell_type": "code",
   "execution_count": 172,
   "metadata": {
    "collapsed": true
   },
   "outputs": [],
   "source": [
    "# Training tf-idf model from bag-of-word dataset\n",
    "model_tfidf = TfidfModel(doc_term_matrix, id2word=dictionary, normalize=False)"
   ]
  },
  {
   "cell_type": "code",
   "execution_count": 187,
   "metadata": {
    "collapsed": true
   },
   "outputs": [],
   "source": [
    "# Applying tf-idf model to all vectors\n",
    "from gensim.corpora import MmCorpus\n",
    "MmCorpus.serialize('./corpus_tfidf.mm', model_tfidf[doc_term_matrix], progress_cnt=100)"
   ]
  },
  {
   "cell_type": "code",
   "execution_count": 188,
   "metadata": {},
   "outputs": [
    {
     "name": "stdout",
     "output_type": "stream",
     "text": [
      "MatrixSimilarity<694 docs, 6533 features>\n"
     ]
    }
   ],
   "source": [
    "corpus_tfidf = MmCorpus('./corpus_tfidf.mm') # Loading back the corpus file after applying tf-idf\n",
    "model_lsi = LsiModel(corpus_tfidf, num_topics=15, id2word=dictionary)\n",
    "# Applying LSI model to all vectors\n",
    "index = similarities.MatrixSimilarity(model_lsi[corpus_tfidf], num_features=len(dictionary))\n",
    "print(index)\n",
    "index.save('./lsi_index.mm') # Saving the similarity matrix to a local matrix market file named './lsi_model.mm'"
   ]
  },
  {
   "cell_type": "code",
   "execution_count": 195,
   "metadata": {},
   "outputs": [
    {
     "name": "stdout",
     "output_type": "stream",
     "text": [
      "694\n"
     ]
    }
   ],
   "source": [
    "# Loading the similarity matrix back from the local file\n",
    "similarity_matrix = similarities.MatrixSimilarity.load('./lsi_index.mm')\n",
    "print(len(similarity_matrix))"
   ]
  }
 ],
 "metadata": {
  "kernelspec": {
   "display_name": "Python 3",
   "language": "python",
   "name": "python3"
  },
  "language_info": {
   "codemirror_mode": {
    "name": "ipython",
    "version": 3
   },
   "file_extension": ".py",
   "mimetype": "text/x-python",
   "name": "python",
   "nbconvert_exporter": "python",
   "pygments_lexer": "ipython3",
   "version": "3.6.1"
  }
 },
 "nbformat": 4,
 "nbformat_minor": 2
}
